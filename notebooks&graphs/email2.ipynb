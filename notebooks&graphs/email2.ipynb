{
 "cells": [
  {
   "cell_type": "markdown",
   "id": "2f76b59f-25f3-4809-b39b-67edfca1e46b",
   "metadata": {},
   "source": [
    "# 1)Data Loading"
   ]
  },
  {
   "cell_type": "code",
   "execution_count": 9,
   "id": "ebb39d60-d292-4861-8d7d-50efad33072a",
   "metadata": {},
   "outputs": [
    {
     "name": "stderr",
     "output_type": "stream",
     "text": [
      "[nltk_data] Downloading package punkt to\n",
      "[nltk_data]     C:\\Users\\sneha\\AppData\\Roaming\\nltk_data...\n",
      "[nltk_data]   Package punkt is already up-to-date!\n",
      "[nltk_data] Downloading package punkt_tab to\n",
      "[nltk_data]     C:\\Users\\sneha\\AppData\\Roaming\\nltk_data...\n",
      "[nltk_data]   Package punkt_tab is already up-to-date!\n",
      "[nltk_data] Downloading package stopwords to\n",
      "[nltk_data]     C:\\Users\\sneha\\AppData\\Roaming\\nltk_data...\n",
      "[nltk_data]   Package stopwords is already up-to-date!\n"
     ]
    }
   ],
   "source": [
    "import numpy as np\n",
    "import pandas as pd\n",
    "from sklearn.preprocessing import LabelEncoder\n",
    "import matplotlib.pyplot as plt\n",
    "import nltk\n",
    "nltk.download('punkt')\n",
    "nltk.download('punkt_tab')\n",
    "import seaborn as sns\n",
    "from collections import Counter\n",
    "import string\n",
    "from nltk.corpus import stopwords\n",
    "nltk.download('stopwords')\n",
    "from nltk.tokenize import word_tokenize\n",
    "from nltk.stem import PorterStemmer"
   ]
  },
  {
   "cell_type": "code",
   "execution_count": 10,
   "id": "7da55e19-c40e-4dee-a30e-5a8c52686686",
   "metadata": {},
   "outputs": [
    {
     "data": {
      "text/html": [
       "<div>\n",
       "<style scoped>\n",
       "    .dataframe tbody tr th:only-of-type {\n",
       "        vertical-align: middle;\n",
       "    }\n",
       "\n",
       "    .dataframe tbody tr th {\n",
       "        vertical-align: top;\n",
       "    }\n",
       "\n",
       "    .dataframe thead th {\n",
       "        text-align: right;\n",
       "    }\n",
       "</style>\n",
       "<table border=\"1\" class=\"dataframe\">\n",
       "  <thead>\n",
       "    <tr style=\"text-align: right;\">\n",
       "      <th></th>\n",
       "      <th>v1</th>\n",
       "      <th>v2</th>\n",
       "      <th>Unnamed: 2</th>\n",
       "      <th>Unnamed: 3</th>\n",
       "      <th>Unnamed: 4</th>\n",
       "    </tr>\n",
       "  </thead>\n",
       "  <tbody>\n",
       "    <tr>\n",
       "      <th>0</th>\n",
       "      <td>ham</td>\n",
       "      <td>Go until jurong point, crazy.. Available only in bugis n great world la e buffet... Cine there got amore wat...</td>\n",
       "      <td>NaN</td>\n",
       "      <td>NaN</td>\n",
       "      <td>NaN</td>\n",
       "    </tr>\n",
       "    <tr>\n",
       "      <th>1</th>\n",
       "      <td>ham</td>\n",
       "      <td>Ok lar... Joking wif u oni...</td>\n",
       "      <td>NaN</td>\n",
       "      <td>NaN</td>\n",
       "      <td>NaN</td>\n",
       "    </tr>\n",
       "    <tr>\n",
       "      <th>2</th>\n",
       "      <td>spam</td>\n",
       "      <td>Free entry in 2 a wkly comp to win FA Cup final tkts 21st May 2005. Text FA to 87121 to receive entry question(std txt rate)T&amp;C's apply 08452810075over18's</td>\n",
       "      <td>NaN</td>\n",
       "      <td>NaN</td>\n",
       "      <td>NaN</td>\n",
       "    </tr>\n",
       "    <tr>\n",
       "      <th>3</th>\n",
       "      <td>ham</td>\n",
       "      <td>U dun say so early hor... U c already then say...</td>\n",
       "      <td>NaN</td>\n",
       "      <td>NaN</td>\n",
       "      <td>NaN</td>\n",
       "    </tr>\n",
       "    <tr>\n",
       "      <th>4</th>\n",
       "      <td>ham</td>\n",
       "      <td>Nah I don't think he goes to usf, he lives around here though</td>\n",
       "      <td>NaN</td>\n",
       "      <td>NaN</td>\n",
       "      <td>NaN</td>\n",
       "    </tr>\n",
       "  </tbody>\n",
       "</table>\n",
       "</div>"
      ],
      "text/plain": [
       "     v1  \\\n",
       "0   ham   \n",
       "1   ham   \n",
       "2  spam   \n",
       "3   ham   \n",
       "4   ham   \n",
       "\n",
       "                                                                                                                                                            v2  \\\n",
       "0                                              Go until jurong point, crazy.. Available only in bugis n great world la e buffet... Cine there got amore wat...   \n",
       "1                                                                                                                                Ok lar... Joking wif u oni...   \n",
       "2  Free entry in 2 a wkly comp to win FA Cup final tkts 21st May 2005. Text FA to 87121 to receive entry question(std txt rate)T&C's apply 08452810075over18's   \n",
       "3                                                                                                            U dun say so early hor... U c already then say...   \n",
       "4                                                                                                Nah I don't think he goes to usf, he lives around here though   \n",
       "\n",
       "  Unnamed: 2 Unnamed: 3 Unnamed: 4  \n",
       "0        NaN        NaN        NaN  \n",
       "1        NaN        NaN        NaN  \n",
       "2        NaN        NaN        NaN  \n",
       "3        NaN        NaN        NaN  \n",
       "4        NaN        NaN        NaN  "
      ]
     },
     "execution_count": 10,
     "metadata": {},
     "output_type": "execute_result"
    }
   ],
   "source": [
    "spam_data = pd.read_csv('spam.csv', encoding='latin1')\n",
    "pd.set_option('display.max_colwidth', None)\n",
    "spam_data.head()"
   ]
  },
  {
   "cell_type": "code",
   "execution_count": 11,
   "id": "9afa53a8-7379-4c47-9d8c-999cc8223025",
   "metadata": {},
   "outputs": [
    {
     "data": {
      "text/plain": [
       "(5572, 5)"
      ]
     },
     "execution_count": 11,
     "metadata": {},
     "output_type": "execute_result"
    }
   ],
   "source": [
    "spam_data.shape"
   ]
  },
  {
   "cell_type": "markdown",
   "id": "92e84787-51d2-4441-9f4d-3e80c4405680",
   "metadata": {},
   "source": [
    "# 2)Data Cleaning"
   ]
  },
  {
   "cell_type": "code",
   "execution_count": 12,
   "id": "9204814a-0b4d-4fdf-8ed4-631500bb033b",
   "metadata": {},
   "outputs": [
    {
     "name": "stdout",
     "output_type": "stream",
     "text": [
      "<class 'pandas.core.frame.DataFrame'>\n",
      "RangeIndex: 5572 entries, 0 to 5571\n",
      "Data columns (total 5 columns):\n",
      " #   Column      Non-Null Count  Dtype \n",
      "---  ------      --------------  ----- \n",
      " 0   v1          5572 non-null   object\n",
      " 1   v2          5572 non-null   object\n",
      " 2   Unnamed: 2  50 non-null     object\n",
      " 3   Unnamed: 3  12 non-null     object\n",
      " 4   Unnamed: 4  6 non-null      object\n",
      "dtypes: object(5)\n",
      "memory usage: 217.8+ KB\n"
     ]
    }
   ],
   "source": [
    "spam_data.info()"
   ]
  },
  {
   "cell_type": "code",
   "execution_count": 13,
   "id": "92148014-b297-4cd2-be15-63cd7fd94a03",
   "metadata": {},
   "outputs": [
    {
     "data": {
      "text/plain": [
       "' Column Unnamed: 2,Unnamed: 3,Unnamed: 4 \\ncontains mostly null values which needs to be dropped '"
      ]
     },
     "execution_count": 13,
     "metadata": {},
     "output_type": "execute_result"
    }
   ],
   "source": [
    "''' Column Unnamed: 2,Unnamed: 3,Unnamed: 4 \n",
    "contains mostly null values which needs to be dropped '''"
   ]
  },
  {
   "cell_type": "markdown",
   "id": "299b0513-1a58-477e-a4e2-6d346b907279",
   "metadata": {},
   "source": [
    "### a)Dropping Columns"
   ]
  },
  {
   "cell_type": "code",
   "execution_count": 14,
   "id": "8eb53b9b-5ce4-4391-ba78-6362376b7cb2",
   "metadata": {},
   "outputs": [],
   "source": [
    "# dropping the last 3 columns\n",
    "spam_data.drop(columns=['Unnamed: 2','Unnamed: 3','Unnamed: 4'],inplace=True)"
   ]
  },
  {
   "cell_type": "code",
   "execution_count": 15,
   "id": "0795a5a7-777e-4412-9df8-8190db5b83dd",
   "metadata": {},
   "outputs": [
    {
     "data": {
      "text/html": [
       "<div>\n",
       "<style scoped>\n",
       "    .dataframe tbody tr th:only-of-type {\n",
       "        vertical-align: middle;\n",
       "    }\n",
       "\n",
       "    .dataframe tbody tr th {\n",
       "        vertical-align: top;\n",
       "    }\n",
       "\n",
       "    .dataframe thead th {\n",
       "        text-align: right;\n",
       "    }\n",
       "</style>\n",
       "<table border=\"1\" class=\"dataframe\">\n",
       "  <thead>\n",
       "    <tr style=\"text-align: right;\">\n",
       "      <th></th>\n",
       "      <th>v1</th>\n",
       "      <th>v2</th>\n",
       "    </tr>\n",
       "  </thead>\n",
       "  <tbody>\n",
       "    <tr>\n",
       "      <th>0</th>\n",
       "      <td>ham</td>\n",
       "      <td>Go until jurong point, crazy.. Available only in bugis n great world la e buffet... Cine there got amore wat...</td>\n",
       "    </tr>\n",
       "    <tr>\n",
       "      <th>1</th>\n",
       "      <td>ham</td>\n",
       "      <td>Ok lar... Joking wif u oni...</td>\n",
       "    </tr>\n",
       "    <tr>\n",
       "      <th>2</th>\n",
       "      <td>spam</td>\n",
       "      <td>Free entry in 2 a wkly comp to win FA Cup final tkts 21st May 2005. Text FA to 87121 to receive entry question(std txt rate)T&amp;C's apply 08452810075over18's</td>\n",
       "    </tr>\n",
       "    <tr>\n",
       "      <th>3</th>\n",
       "      <td>ham</td>\n",
       "      <td>U dun say so early hor... U c already then say...</td>\n",
       "    </tr>\n",
       "    <tr>\n",
       "      <th>4</th>\n",
       "      <td>ham</td>\n",
       "      <td>Nah I don't think he goes to usf, he lives around here though</td>\n",
       "    </tr>\n",
       "  </tbody>\n",
       "</table>\n",
       "</div>"
      ],
      "text/plain": [
       "     v1  \\\n",
       "0   ham   \n",
       "1   ham   \n",
       "2  spam   \n",
       "3   ham   \n",
       "4   ham   \n",
       "\n",
       "                                                                                                                                                            v2  \n",
       "0                                              Go until jurong point, crazy.. Available only in bugis n great world la e buffet... Cine there got amore wat...  \n",
       "1                                                                                                                                Ok lar... Joking wif u oni...  \n",
       "2  Free entry in 2 a wkly comp to win FA Cup final tkts 21st May 2005. Text FA to 87121 to receive entry question(std txt rate)T&C's apply 08452810075over18's  \n",
       "3                                                                                                            U dun say so early hor... U c already then say...  \n",
       "4                                                                                                Nah I don't think he goes to usf, he lives around here though  "
      ]
     },
     "execution_count": 15,
     "metadata": {},
     "output_type": "execute_result"
    }
   ],
   "source": [
    "spam_data.head()"
   ]
  },
  {
   "cell_type": "code",
   "execution_count": 16,
   "id": "04a5aa9c-9642-4cc9-9936-d8ae7a578aeb",
   "metadata": {},
   "outputs": [
    {
     "data": {
      "text/plain": [
       "'Using clear and relevent names for Columns'"
      ]
     },
     "execution_count": 16,
     "metadata": {},
     "output_type": "execute_result"
    }
   ],
   "source": [
    "'''Using clear and relevent names for Columns'''"
   ]
  },
  {
   "cell_type": "markdown",
   "id": "c10b974a-9e10-4395-b58d-e00bf8f45185",
   "metadata": {},
   "source": [
    "### b)Renaming Columns"
   ]
  },
  {
   "cell_type": "code",
   "execution_count": 17,
   "id": "eab51d3e-e190-4ec1-963f-3df2fd818014",
   "metadata": {},
   "outputs": [
    {
     "data": {
      "text/html": [
       "<div>\n",
       "<style scoped>\n",
       "    .dataframe tbody tr th:only-of-type {\n",
       "        vertical-align: middle;\n",
       "    }\n",
       "\n",
       "    .dataframe tbody tr th {\n",
       "        vertical-align: top;\n",
       "    }\n",
       "\n",
       "    .dataframe thead th {\n",
       "        text-align: right;\n",
       "    }\n",
       "</style>\n",
       "<table border=\"1\" class=\"dataframe\">\n",
       "  <thead>\n",
       "    <tr style=\"text-align: right;\">\n",
       "      <th></th>\n",
       "      <th>type</th>\n",
       "      <th>messages</th>\n",
       "    </tr>\n",
       "  </thead>\n",
       "  <tbody>\n",
       "    <tr>\n",
       "      <th>1341</th>\n",
       "      <td>ham</td>\n",
       "      <td>Just chill for another 6hrs. If you could sleep the pain is not a surgical emergency so see how it unfolds. Okay</td>\n",
       "    </tr>\n",
       "    <tr>\n",
       "      <th>4376</th>\n",
       "      <td>ham</td>\n",
       "      <td>How much is torch in 9ja.</td>\n",
       "    </tr>\n",
       "    <tr>\n",
       "      <th>1264</th>\n",
       "      <td>ham</td>\n",
       "      <td>I will see in half an hour</td>\n",
       "    </tr>\n",
       "    <tr>\n",
       "      <th>2196</th>\n",
       "      <td>ham</td>\n",
       "      <td>Not much, just some textin'. How bout you?</td>\n",
       "    </tr>\n",
       "    <tr>\n",
       "      <th>5113</th>\n",
       "      <td>ham</td>\n",
       "      <td>U definitely need a module from e humanities dis sem izzit? U wan 2 take other modules 1st?</td>\n",
       "    </tr>\n",
       "  </tbody>\n",
       "</table>\n",
       "</div>"
      ],
      "text/plain": [
       "     type  \\\n",
       "1341  ham   \n",
       "4376  ham   \n",
       "1264  ham   \n",
       "2196  ham   \n",
       "5113  ham   \n",
       "\n",
       "                                                                                                              messages  \n",
       "1341  Just chill for another 6hrs. If you could sleep the pain is not a surgical emergency so see how it unfolds. Okay  \n",
       "4376                                                                                         How much is torch in 9ja.  \n",
       "1264                                                                                        I will see in half an hour  \n",
       "2196                                                                        Not much, just some textin'. How bout you?  \n",
       "5113                       U definitely need a module from e humanities dis sem izzit? U wan 2 take other modules 1st?  "
      ]
     },
     "execution_count": 17,
     "metadata": {},
     "output_type": "execute_result"
    }
   ],
   "source": [
    "spam_data.rename(columns={'v1':'type','v2':'messages'},inplace=True)\n",
    "spam_data.sample(5)"
   ]
  },
  {
   "cell_type": "code",
   "execution_count": 18,
   "id": "ab46da75-e50e-48a4-9366-d59153b8e247",
   "metadata": {},
   "outputs": [
    {
     "data": {
      "text/plain": [
       "'Most Of the Models need to be provided with numerical data as they handle it correctly.'"
      ]
     },
     "execution_count": 18,
     "metadata": {},
     "output_type": "execute_result"
    }
   ],
   "source": [
    "'''Most Of the Models need to be provided with numerical data as they handle it correctly.'''"
   ]
  },
  {
   "cell_type": "markdown",
   "id": "32176780-0aff-4a0c-9801-bebdb27bb045",
   "metadata": {},
   "source": [
    "### c)Encoding "
   ]
  },
  {
   "cell_type": "code",
   "execution_count": 19,
   "id": "ee1aadd1-7253-44d3-9952-3bb5de0e6fa0",
   "metadata": {},
   "outputs": [],
   "source": [
    "encoder = LabelEncoder()\n",
    "spam_data['type'] = encoder.fit_transform(spam_data['type'])"
   ]
  },
  {
   "cell_type": "code",
   "execution_count": 20,
   "id": "68c68aee-16a8-49c0-b1cd-f41cafc3c559",
   "metadata": {},
   "outputs": [
    {
     "data": {
      "text/html": [
       "<div>\n",
       "<style scoped>\n",
       "    .dataframe tbody tr th:only-of-type {\n",
       "        vertical-align: middle;\n",
       "    }\n",
       "\n",
       "    .dataframe tbody tr th {\n",
       "        vertical-align: top;\n",
       "    }\n",
       "\n",
       "    .dataframe thead th {\n",
       "        text-align: right;\n",
       "    }\n",
       "</style>\n",
       "<table border=\"1\" class=\"dataframe\">\n",
       "  <thead>\n",
       "    <tr style=\"text-align: right;\">\n",
       "      <th></th>\n",
       "      <th>type</th>\n",
       "      <th>messages</th>\n",
       "    </tr>\n",
       "  </thead>\n",
       "  <tbody>\n",
       "    <tr>\n",
       "      <th>0</th>\n",
       "      <td>0</td>\n",
       "      <td>Go until jurong point, crazy.. Available only in bugis n great world la e buffet... Cine there got amore wat...</td>\n",
       "    </tr>\n",
       "    <tr>\n",
       "      <th>1</th>\n",
       "      <td>0</td>\n",
       "      <td>Ok lar... Joking wif u oni...</td>\n",
       "    </tr>\n",
       "    <tr>\n",
       "      <th>2</th>\n",
       "      <td>1</td>\n",
       "      <td>Free entry in 2 a wkly comp to win FA Cup final tkts 21st May 2005. Text FA to 87121 to receive entry question(std txt rate)T&amp;C's apply 08452810075over18's</td>\n",
       "    </tr>\n",
       "    <tr>\n",
       "      <th>3</th>\n",
       "      <td>0</td>\n",
       "      <td>U dun say so early hor... U c already then say...</td>\n",
       "    </tr>\n",
       "    <tr>\n",
       "      <th>4</th>\n",
       "      <td>0</td>\n",
       "      <td>Nah I don't think he goes to usf, he lives around here though</td>\n",
       "    </tr>\n",
       "  </tbody>\n",
       "</table>\n",
       "</div>"
      ],
      "text/plain": [
       "   type  \\\n",
       "0     0   \n",
       "1     0   \n",
       "2     1   \n",
       "3     0   \n",
       "4     0   \n",
       "\n",
       "                                                                                                                                                      messages  \n",
       "0                                              Go until jurong point, crazy.. Available only in bugis n great world la e buffet... Cine there got amore wat...  \n",
       "1                                                                                                                                Ok lar... Joking wif u oni...  \n",
       "2  Free entry in 2 a wkly comp to win FA Cup final tkts 21st May 2005. Text FA to 87121 to receive entry question(std txt rate)T&C's apply 08452810075over18's  \n",
       "3                                                                                                            U dun say so early hor... U c already then say...  \n",
       "4                                                                                                Nah I don't think he goes to usf, he lives around here though  "
      ]
     },
     "execution_count": 20,
     "metadata": {},
     "output_type": "execute_result"
    }
   ],
   "source": [
    "spam_data.head()"
   ]
  },
  {
   "cell_type": "markdown",
   "id": "52455180-ada2-4a33-b0b8-5048697c0267",
   "metadata": {},
   "source": [
    "### d)Handling Missing Values"
   ]
  },
  {
   "cell_type": "code",
   "execution_count": 21,
   "id": "afc39a87-3e07-4764-a877-b61d2583c924",
   "metadata": {},
   "outputs": [
    {
     "data": {
      "text/plain": [
       "type        0\n",
       "messages    0\n",
       "dtype: int64"
      ]
     },
     "execution_count": 21,
     "metadata": {},
     "output_type": "execute_result"
    }
   ],
   "source": [
    "spam_data.isnull().sum()"
   ]
  },
  {
   "cell_type": "code",
   "execution_count": 22,
   "id": "466552da-e38c-4980-8322-fab6ae2b6039",
   "metadata": {},
   "outputs": [
    {
     "data": {
      "text/plain": [
       "'No missing values found'"
      ]
     },
     "execution_count": 22,
     "metadata": {},
     "output_type": "execute_result"
    }
   ],
   "source": [
    "'''No missing values found'''"
   ]
  },
  {
   "cell_type": "markdown",
   "id": "783d56bb-fd06-4242-b41f-5b450877bd89",
   "metadata": {},
   "source": [
    "### e)Handling Duplicate Values"
   ]
  },
  {
   "cell_type": "code",
   "execution_count": 23,
   "id": "a2b21714-82ad-4d9e-9f3d-44a0fe26a094",
   "metadata": {},
   "outputs": [
    {
     "data": {
      "text/plain": [
       "np.int64(403)"
      ]
     },
     "execution_count": 23,
     "metadata": {},
     "output_type": "execute_result"
    }
   ],
   "source": [
    "spam_data.duplicated().sum()"
   ]
  },
  {
   "cell_type": "code",
   "execution_count": 24,
   "id": "8ddb5a58-05f6-4a7c-a8b0-8c58a81e9bb7",
   "metadata": {},
   "outputs": [
    {
     "data": {
      "text/plain": [
       "'These Duplicated Values need to be removed'"
      ]
     },
     "execution_count": 24,
     "metadata": {},
     "output_type": "execute_result"
    }
   ],
   "source": [
    "'''These Duplicated Values need to be removed'''"
   ]
  },
  {
   "cell_type": "code",
   "execution_count": 25,
   "id": "62eec6a9-5d97-4423-9a8f-893f0dfa8f30",
   "metadata": {},
   "outputs": [
    {
     "data": {
      "text/plain": [
       "np.int64(0)"
      ]
     },
     "execution_count": 25,
     "metadata": {},
     "output_type": "execute_result"
    }
   ],
   "source": [
    "spam_data = spam_data.drop_duplicates(keep='first')\n",
    "spam_data.duplicated().sum()"
   ]
  },
  {
   "cell_type": "code",
   "execution_count": 26,
   "id": "481adf67-2bd9-4df7-90c3-41e6cccb04dd",
   "metadata": {},
   "outputs": [
    {
     "data": {
      "text/plain": [
       "(5169, 2)"
      ]
     },
     "execution_count": 26,
     "metadata": {},
     "output_type": "execute_result"
    }
   ],
   "source": [
    "spam_data.shape"
   ]
  },
  {
   "cell_type": "markdown",
   "id": "62ef7e34-f716-4408-957b-89f9e2926ad2",
   "metadata": {},
   "source": [
    "# 3)EDA"
   ]
  },
  {
   "cell_type": "markdown",
   "id": "43fe872a-6980-4921-aa4d-3dd08f7cd751",
   "metadata": {},
   "source": [
    "### a) PieChart"
   ]
  },
  {
   "cell_type": "code",
   "execution_count": 27,
   "id": "6dc73847-8260-426b-b4ef-114541fccd7b",
   "metadata": {},
   "outputs": [
    {
     "data": {
      "image/png": "[encoded data removed]",
      "text/plain": [
       "<Figure size 640x480 with 1 Axes>"
      ]
     },
     "metadata": {},
     "output_type": "display_data"
    }
   ],
   "source": [
    "plt.pie(spam_data['type'].value_counts(),\n",
    "        labels=['Not Spam','Spam'],\n",
    "        autopct=\"%0.2f\",\n",
    "        startangle=90,     \n",
    "        colors=['pink','lightblue'],\n",
    "        explode=(0, 0.1),   \n",
    "        )\n",
    "plt.title('Spam Distribution',color='brown')\n",
    "plt.savefig('piechart.png')\n",
    "plt.show()"
   ]
  },
  {
   "cell_type": "code",
   "execution_count": 28,
   "id": "ae336184-c53b-4361-acc9-66b9d26aec21",
   "metadata": {},
   "outputs": [
    {
     "data": {
      "text/plain": [
       "'The chart highlights the class imbalance, with non-spam emails likely\\ndominating the dataset (larger slice) and spam emails forming a smaller minority (smaller slice).'"
      ]
     },
     "execution_count": 28,
     "metadata": {},
     "output_type": "execute_result"
    }
   ],
   "source": [
    "'''The chart highlights the class imbalance, with non-spam emails likely\n",
    "dominating the dataset (larger slice) and spam emails forming a smaller minority (smaller slice).'''"
   ]
  },
  {
   "cell_type": "markdown",
   "id": "a49cb462-4f45-4338-9830-992bbaf259b5",
   "metadata": {},
   "source": [
    "### b)HistPlot"
   ]
  },
  {
   "cell_type": "code",
   "execution_count": 29,
   "id": "f1a10841-f66d-43f7-b1e6-aff8228849f3",
   "metadata": {},
   "outputs": [],
   "source": [
    "spam_data['total_characters'] = spam_data['messages'].apply(len)"
   ]
  },
  {
   "cell_type": "code",
   "execution_count": 30,
   "id": "9fbc10e4-eb77-4278-aa7b-76cc45ee3a3f",
   "metadata": {},
   "outputs": [],
   "source": [
    "spam_data['total_words'] = spam_data['messages'].apply(lambda x:len(nltk.word_tokenize(x)))"
   ]
  },
  {
   "cell_type": "code",
   "execution_count": 31,
   "id": "f786bfa5-f835-4bb0-bd67-83396f18248f",
   "metadata": {},
   "outputs": [],
   "source": [
    "spam_data['total_sentences'] = spam_data['messages'].apply(lambda x:len(nltk.sent_tokenize(x)))"
   ]
  },
  {
   "cell_type": "code",
   "execution_count": 32,
   "id": "2a9897c1-d01a-49b9-8369-68f6a2c35048",
   "metadata": {},
   "outputs": [
    {
     "data": {
      "text/html": [
       "<div>\n",
       "<style scoped>\n",
       "    .dataframe tbody tr th:only-of-type {\n",
       "        vertical-align: middle;\n",
       "    }\n",
       "\n",
       "    .dataframe tbody tr th {\n",
       "        vertical-align: top;\n",
       "    }\n",
       "\n",
       "    .dataframe thead th {\n",
       "        text-align: right;\n",
       "    }\n",
       "</style>\n",
       "<table border=\"1\" class=\"dataframe\">\n",
       "  <thead>\n",
       "    <tr style=\"text-align: right;\">\n",
       "      <th></th>\n",
       "      <th>type</th>\n",
       "      <th>messages</th>\n",
       "      <th>total_characters</th>\n",
       "      <th>total_words</th>\n",
       "      <th>total_sentences</th>\n",
       "    </tr>\n",
       "  </thead>\n",
       "  <tbody>\n",
       "    <tr>\n",
       "      <th>0</th>\n",
       "      <td>0</td>\n",
       "      <td>Go until jurong point, crazy.. Available only in bugis n great world la e buffet... Cine there got amore wat...</td>\n",
       "      <td>111</td>\n",
       "      <td>24</td>\n",
       "      <td>2</td>\n",
       "    </tr>\n",
       "    <tr>\n",
       "      <th>1</th>\n",
       "      <td>0</td>\n",
       "      <td>Ok lar... Joking wif u oni...</td>\n",
       "      <td>29</td>\n",
       "      <td>8</td>\n",
       "      <td>2</td>\n",
       "    </tr>\n",
       "    <tr>\n",
       "      <th>2</th>\n",
       "      <td>1</td>\n",
       "      <td>Free entry in 2 a wkly comp to win FA Cup final tkts 21st May 2005. Text FA to 87121 to receive entry question(std txt rate)T&amp;C's apply 08452810075over18's</td>\n",
       "      <td>155</td>\n",
       "      <td>37</td>\n",
       "      <td>2</td>\n",
       "    </tr>\n",
       "    <tr>\n",
       "      <th>3</th>\n",
       "      <td>0</td>\n",
       "      <td>U dun say so early hor... U c already then say...</td>\n",
       "      <td>49</td>\n",
       "      <td>13</td>\n",
       "      <td>1</td>\n",
       "    </tr>\n",
       "    <tr>\n",
       "      <th>4</th>\n",
       "      <td>0</td>\n",
       "      <td>Nah I don't think he goes to usf, he lives around here though</td>\n",
       "      <td>61</td>\n",
       "      <td>15</td>\n",
       "      <td>1</td>\n",
       "    </tr>\n",
       "  </tbody>\n",
       "</table>\n",
       "</div>"
      ],
      "text/plain": [
       "   type  \\\n",
       "0     0   \n",
       "1     0   \n",
       "2     1   \n",
       "3     0   \n",
       "4     0   \n",
       "\n",
       "                                                                                                                                                      messages  \\\n",
       "0                                              Go until jurong point, crazy.. Available only in bugis n great world la e buffet... Cine there got amore wat...   \n",
       "1                                                                                                                                Ok lar... Joking wif u oni...   \n",
       "2  Free entry in 2 a wkly comp to win FA Cup final tkts 21st May 2005. Text FA to 87121 to receive entry question(std txt rate)T&C's apply 08452810075over18's   \n",
       "3                                                                                                            U dun say so early hor... U c already then say...   \n",
       "4                                                                                                Nah I don't think he goes to usf, he lives around here though   \n",
       "\n",
       "   total_characters  total_words  total_sentences  \n",
       "0               111           24                2  \n",
       "1                29            8                2  \n",
       "2               155           37                2  \n",
       "3                49           13                1  \n",
       "4                61           15                1  "
      ]
     },
     "execution_count": 32,
     "metadata": {},
     "output_type": "execute_result"
    }
   ],
   "source": [
    "spam_data.head()"
   ]
  },
  {
   "cell_type": "code",
   "execution_count": 33,
   "id": "1f5421ae-9e66-4e72-b9bf-c3bbaf57b5de",
   "metadata": {},
   "outputs": [
    {
     "data": {
      "image/png": "[encoded data removed]",
      "text/plain": [
       "<Figure size 1200x600 with 1 Axes>"
      ]
     },
     "metadata": {},
     "output_type": "display_data"
    }
   ],
   "source": [
    "plt.figure(figsize=(12,6))\n",
    "sns.histplot(spam_data[spam_data['type'] == 0]['total_characters'], label='Not Spam', color='lightblue')\n",
    "sns.histplot(spam_data[spam_data['type'] == 1]['total_characters'], label='Spam', color='pink')\n",
    "plt.title('Distribution of Email Length by Spam Classification',color='brown')\n",
    "plt.xlabel('Number of Characters',color='brown')\n",
    "plt.ylabel('Frequency',color='brown')\n",
    "plt.savefig('HistplotCharacter.png')\n",
    "plt.legend(title='Email Type')\n",
    "plt.show()"
   ]
  },
  {
   "cell_type": "code",
   "execution_count": 34,
   "id": "cf49e85c-0d4d-44b3-b43e-17b8b1cd0210",
   "metadata": {},
   "outputs": [
    {
     "data": {
      "text/plain": [
       "'\\n  → Spam emails are generally longer in terms of character count than non-spam emails.\\n  → Non-spam emails are shorter and more concise, dominating the lower character ranges.\\n'"
      ]
     },
     "execution_count": 34,
     "metadata": {},
     "output_type": "execute_result"
    }
   ],
   "source": [
    "'''\n",
    "  → Spam emails are generally longer in terms of character count than non-spam emails.\n",
    "  → Non-spam emails are shorter and more concise, dominating the lower character ranges.\n",
    "'''"
   ]
  },
  {
   "cell_type": "code",
   "execution_count": 35,
   "id": "d7514413-da30-49ef-88f5-6f63fd95a177",
   "metadata": {},
   "outputs": [
    {
     "data": {
      "image/png": "[encoded data removed]",
      "text/plain": [
       "<Figure size 1200x600 with 1 Axes>"
      ]
     },
     "metadata": {},
     "output_type": "display_data"
    }
   ],
   "source": [
    "plt.figure(figsize=(12,6))\n",
    "sns.histplot(spam_data[spam_data['type'] == 0]['total_words'], label='Not Spam', color='lightblue')\n",
    "sns.histplot(spam_data[spam_data['type'] == 1]['total_words'], label='Spam', color='pink')\n",
    "plt.title('Distribution of Email Words Length by Spam Classification',color='brown')\n",
    "plt.xlabel('Number of Words',color='brown')\n",
    "plt.ylabel('Frequency',color='brown')\n",
    "plt.legend(title='Email Type')\n",
    "plt.savefig('HistplotWords.png')\n",
    "plt.show()"
   ]
  },
  {
   "cell_type": "code",
   "execution_count": 36,
   "id": "12eb6030-72f2-4b7e-a8ba-d5657395434b",
   "metadata": {},
   "outputs": [
    {
     "data": {
      "text/plain": [
       "'\\n   → Spam emails generally tend to be longer (in word count) than non-spam emails.\\n   → However, non-spam emails dominate shorter lengths and appear more frequently in total.\\n'"
      ]
     },
     "execution_count": 36,
     "metadata": {},
     "output_type": "execute_result"
    }
   ],
   "source": [
    "'''\n",
    "   → Spam emails generally tend to be longer (in word count) than non-spam emails.\n",
    "   → However, non-spam emails dominate shorter lengths and appear more frequently in total.\n",
    "'''"
   ]
  },
  {
   "cell_type": "markdown",
   "id": "455ddb36-75d1-4626-a5d2-3e3836c1c4a7",
   "metadata": {},
   "source": [
    "### c)Heatmap"
   ]
  },
  {
   "cell_type": "code",
   "execution_count": 37,
   "id": "b57dfecc-d9f1-4693-9faa-da23b6403b10",
   "metadata": {},
   "outputs": [
    {
     "data": {
      "image/png": "[encoded data removed]",
      "text/plain": [
       "<Figure size 640x480 with 2 Axes>"
      ]
     },
     "metadata": {},
     "output_type": "display_data"
    }
   ],
   "source": [
    "numerical_data = spam_data[['type', 'total_characters', 'total_words', 'total_sentences']]\n",
    "sns.heatmap(numerical_data.corr(), annot=True,cmap='pink')\n",
    "plt.title('Correlation Heatmap of Numerical Features',color='brown')\n",
    "plt.savefig('Heatmap.png')\n",
    "plt.show()"
   ]
  },
  {
   "cell_type": "code",
   "execution_count": 38,
   "id": "be082743-f793-4eab-922b-126a81168268",
   "metadata": {},
   "outputs": [
    {
     "data": {
      "text/plain": [
       "'\\ntotal_characters and total_words show a very strong positive correlation (close to +1):\\n→ Emails with more words naturally have more characters.\\n\\ntotal_words and total_sentences are also strongly positively correlated:\\n→ Longer emails tend to have more sentences and words.\\n\\ntotal_characters and total_sentences have a strong positive correlation as well:\\n→ More characters generally indicate more sentences.\\n\\nvalues ( 1 = spam, 0 = non spam) shows:\\n\\nA slight positive correlation with total_characters, total_words, and total_sentences\\n→ Spam emails tend to be slightly longer (more words/characters/sentences) than non-spam (ham), but the correlation is weak.\\n'"
      ]
     },
     "execution_count": 38,
     "metadata": {},
     "output_type": "execute_result"
    }
   ],
   "source": [
    "'''\n",
    "total_characters and total_words show a very strong positive correlation (close to +1):\n",
    "→ Emails with more words naturally have more characters.\n",
    "\n",
    "total_words and total_sentences are also strongly positively correlated:\n",
    "→ Longer emails tend to have more sentences and words.\n",
    "\n",
    "total_characters and total_sentences have a strong positive correlation as well:\n",
    "→ More characters generally indicate more sentences.\n",
    "\n",
    "values ( 1 = spam, 0 = non spam) shows:\n",
    "\n",
    "A slight positive correlation with total_characters, total_words, and total_sentences\n",
    "→ Spam emails tend to be slightly longer (more words/characters/sentences) than non-spam (ham), but the correlation is weak.\n",
    "'''"
   ]
  },
  {
   "cell_type": "markdown",
   "id": "13b14b6b-b9f3-4552-bbc3-c2732cbe5c34",
   "metadata": {},
   "source": [
    "# 4)Data Preprocessing\n",
    " - Lower case\n",
    " - Tokenization\n",
    " - Removing special characters\n",
    " - Removing stop words and punctuation\n",
    " - Stemming"
   ]
  },
  {
   "cell_type": "code",
   "execution_count": 39,
   "id": "30f009e6-bff4-4890-a653-7cbee1392035",
   "metadata": {},
   "outputs": [],
   "source": [
    "stemmer = PorterStemmer()\n",
    "stop_words = set(stopwords.words('english'))\n",
    "punctuation = set(string.punctuation)\n",
    "\n",
    "def transformed_messages(messages):\n",
    "   \n",
    "    messages = messages.lower()\n",
    "    \n",
    "    # Tokenizing and removing non-alphanumeric tokens in one step\n",
    "    tokens = [token for token in word_tokenize(messages) \n",
    "              if token.isalnum()]\n",
    "    \n",
    "    tokens = [token for token in tokens \n",
    "              if token not in stop_words and \n",
    "              token not in punctuation]\n",
    "    \n",
    "    tokens = [stemmer.stem(token) for token in tokens]\n",
    "    \n",
    "    return \" \".join(tokens)"
   ]
  },
  {
   "cell_type": "code",
   "execution_count": 40,
   "id": "82a6f51a-a742-440b-b676-2d840df3f585",
   "metadata": {},
   "outputs": [
    {
     "data": {
      "text/html": [
       "<div>\n",
       "<style scoped>\n",
       "    .dataframe tbody tr th:only-of-type {\n",
       "        vertical-align: middle;\n",
       "    }\n",
       "\n",
       "    .dataframe tbody tr th {\n",
       "        vertical-align: top;\n",
       "    }\n",
       "\n",
       "    .dataframe thead th {\n",
       "        text-align: right;\n",
       "    }\n",
       "</style>\n",
       "<table border=\"1\" class=\"dataframe\">\n",
       "  <thead>\n",
       "    <tr style=\"text-align: right;\">\n",
       "      <th></th>\n",
       "      <th>type</th>\n",
       "      <th>messages</th>\n",
       "      <th>total_characters</th>\n",
       "      <th>total_words</th>\n",
       "      <th>total_sentences</th>\n",
       "      <th>transformed_messages</th>\n",
       "    </tr>\n",
       "  </thead>\n",
       "  <tbody>\n",
       "    <tr>\n",
       "      <th>0</th>\n",
       "      <td>0</td>\n",
       "      <td>Go until jurong point, crazy.. Available only in bugis n great world la e buffet... Cine there got amore wat...</td>\n",
       "      <td>111</td>\n",
       "      <td>24</td>\n",
       "      <td>2</td>\n",
       "      <td>go jurong point crazi avail bugi n great world la e buffet cine got amor wat</td>\n",
       "    </tr>\n",
       "    <tr>\n",
       "      <th>1</th>\n",
       "      <td>0</td>\n",
       "      <td>Ok lar... Joking wif u oni...</td>\n",
       "      <td>29</td>\n",
       "      <td>8</td>\n",
       "      <td>2</td>\n",
       "      <td>ok lar joke wif u oni</td>\n",
       "    </tr>\n",
       "    <tr>\n",
       "      <th>2</th>\n",
       "      <td>1</td>\n",
       "      <td>Free entry in 2 a wkly comp to win FA Cup final tkts 21st May 2005. Text FA to 87121 to receive entry question(std txt rate)T&amp;C's apply 08452810075over18's</td>\n",
       "      <td>155</td>\n",
       "      <td>37</td>\n",
       "      <td>2</td>\n",
       "      <td>free entri 2 wkli comp win fa cup final tkt 21st may text fa 87121 receiv entri question std txt rate c appli 08452810075over18</td>\n",
       "    </tr>\n",
       "    <tr>\n",
       "      <th>3</th>\n",
       "      <td>0</td>\n",
       "      <td>U dun say so early hor... U c already then say...</td>\n",
       "      <td>49</td>\n",
       "      <td>13</td>\n",
       "      <td>1</td>\n",
       "      <td>u dun say earli hor u c alreadi say</td>\n",
       "    </tr>\n",
       "    <tr>\n",
       "      <th>4</th>\n",
       "      <td>0</td>\n",
       "      <td>Nah I don't think he goes to usf, he lives around here though</td>\n",
       "      <td>61</td>\n",
       "      <td>15</td>\n",
       "      <td>1</td>\n",
       "      <td>nah think goe usf live around though</td>\n",
       "    </tr>\n",
       "  </tbody>\n",
       "</table>\n",
       "</div>"
      ],
      "text/plain": [
       "   type  \\\n",
       "0     0   \n",
       "1     0   \n",
       "2     1   \n",
       "3     0   \n",
       "4     0   \n",
       "\n",
       "                                                                                                                                                      messages  \\\n",
       "0                                              Go until jurong point, crazy.. Available only in bugis n great world la e buffet... Cine there got amore wat...   \n",
       "1                                                                                                                                Ok lar... Joking wif u oni...   \n",
       "2  Free entry in 2 a wkly comp to win FA Cup final tkts 21st May 2005. Text FA to 87121 to receive entry question(std txt rate)T&C's apply 08452810075over18's   \n",
       "3                                                                                                            U dun say so early hor... U c already then say...   \n",
       "4                                                                                                Nah I don't think he goes to usf, he lives around here though   \n",
       "\n",
       "   total_characters  total_words  total_sentences  \\\n",
       "0               111           24                2   \n",
       "1                29            8                2   \n",
       "2               155           37                2   \n",
       "3                49           13                1   \n",
       "4                61           15                1   \n",
       "\n",
       "                                                                                                              transformed_messages  \n",
       "0                                                     go jurong point crazi avail bugi n great world la e buffet cine got amor wat  \n",
       "1                                                                                                            ok lar joke wif u oni  \n",
       "2  free entri 2 wkli comp win fa cup final tkt 21st may text fa 87121 receiv entri question std txt rate c appli 08452810075over18  \n",
       "3                                                                                              u dun say earli hor u c alreadi say  \n",
       "4                                                                                             nah think goe usf live around though  "
      ]
     },
     "execution_count": 40,
     "metadata": {},
     "output_type": "execute_result"
    }
   ],
   "source": [
    "spam_data['transformed_messages'] = spam_data['messages'].apply(transformed_messages)\n",
    "spam_data.head()"
   ]
  },
  {
   "cell_type": "markdown",
   "id": "3bb8f5c5-40a1-4a31-aaa1-9c26a5712f54",
   "metadata": {},
   "source": [
    "### d)Barplot"
   ]
  },
  {
   "cell_type": "code",
   "execution_count": 41,
   "id": "f8781582-9f45-4a1a-b887-66ee7de05e56",
   "metadata": {},
   "outputs": [
    {
     "data": {
      "image/png": "[encoded data removed]",
      "text/plain": [
       "<Figure size 1000x500 with 1 Axes>"
      ]
     },
     "metadata": {},
     "output_type": "display_data"
    }
   ],
   "source": [
    "NotSpam_corpus = []\n",
    "for msg in spam_data[spam_data['type'] == 0]['transformed_messages'].tolist():\n",
    "    for word in msg.split():\n",
    "        NotSpam_corpus.append(word)\n",
    "\n",
    "top_NotSpam_words = pd.DataFrame(Counter(NotSpam_corpus).most_common(30), \n",
    "                            columns=['Word', 'Frequency'])\n",
    "\n",
    "plt.figure(figsize=(10, 5))\n",
    "ax = sns.barplot(data=top_NotSpam_words, x='Word', y='Frequency',\n",
    "                color='pink',               \n",
    "                edgecolor='lightblue',)           \n",
    "\n",
    "plt.title('Top 30 Most Frequent Words in Not Spam Messages', \n",
    "         color='brown')\n",
    "plt.xlabel('Words', color='brown')\n",
    "plt.ylabel('Frequency Count', color='brown')\n",
    "plt.xticks(rotation=60)  \n",
    "\n",
    "\n",
    "plt.tight_layout()\n",
    "plt.savefig('barplotNotSpamCorpus.png')\n",
    "plt.show()"
   ]
  },
  {
   "cell_type": "code",
   "execution_count": 42,
   "id": "18fcf3a0-8a3c-4219-a999-6f6626c93903",
   "metadata": {},
   "outputs": [
    {
     "data": {
      "text/plain": [
       "\"\\n  The above visualization shows the 30 most frequently occurring words in not spam messages.\\n  Words like 'u', 'go', 'get', 'call', 'come' dominate not spam messages\\n\""
      ]
     },
     "execution_count": 42,
     "metadata": {},
     "output_type": "execute_result"
    }
   ],
   "source": [
    "'''\n",
    "  The above visualization shows the 30 most frequently occurring words in not spam messages.\n",
    "  Words like 'u', 'go', 'get', 'call', 'come' dominate not spam messages\n",
    "'''"
   ]
  },
  {
   "cell_type": "markdown",
   "id": "ea018e82-b951-42d0-bd43-a1259816229a",
   "metadata": {},
   "source": [
    "# 5)Model Building"
   ]
  },
  {
   "cell_type": "markdown",
   "id": "dd0f0ace-0be2-4b18-a089-15168ad5019a",
   "metadata": {},
   "source": [
    "### a)Feature Engineering"
   ]
  },
  {
   "cell_type": "code",
   "execution_count": 43,
   "id": "f515ce37-0d80-4bdd-94ca-1028dda44171",
   "metadata": {},
   "outputs": [],
   "source": [
    "from sklearn.feature_extraction.text import TfidfVectorizer\n",
    "tfidf = TfidfVectorizer(max_features=3000)"
   ]
  },
  {
   "cell_type": "code",
   "execution_count": 44,
   "id": "5351b6ab-2879-4101-8e44-461cae52980d",
   "metadata": {},
   "outputs": [],
   "source": [
    "X = tfidf.fit_transform(spam_data['transformed_messages']).toarray()"
   ]
  },
  {
   "cell_type": "code",
   "execution_count": 45,
   "id": "7a06fedd-2e73-4693-9501-4af16440982a",
   "metadata": {},
   "outputs": [
    {
     "data": {
      "text/plain": [
       "(5169, 3000)"
      ]
     },
     "execution_count": 45,
     "metadata": {},
     "output_type": "execute_result"
    }
   ],
   "source": [
    "X.shape"
   ]
  },
  {
   "cell_type": "markdown",
   "id": "030a7c63-dc1c-4d77-a049-070f1cd0d071",
   "metadata": {},
   "source": [
    "### b)Train-Test Split"
   ]
  },
  {
   "cell_type": "code",
   "execution_count": 46,
   "id": "c01c36ae-8a37-45a7-90ec-c65d024d464e",
   "metadata": {},
   "outputs": [],
   "source": [
    "from sklearn.model_selection import train_test_split"
   ]
  },
  {
   "cell_type": "code",
   "execution_count": 47,
   "id": "4ea77361-3d44-442e-aff3-681f7f5db1f7",
   "metadata": {},
   "outputs": [],
   "source": [
    "Y = spam_data['type'].values\n",
    "X_train,X_test,y_train,y_test = train_test_split(X,Y,test_size=0.2,random_state=2)"
   ]
  },
  {
   "cell_type": "markdown",
   "id": "d8e78fff-047d-44f1-ba6b-e36b8101e509",
   "metadata": {},
   "source": [
    "### c)Model Training & Evaluation"
   ]
  },
  {
   "cell_type": "code",
   "execution_count": 48,
   "id": "b80439aa-1a64-4460-b8e2-b06142ededbf",
   "metadata": {},
   "outputs": [],
   "source": [
    "from sklearn.linear_model import LogisticRegression\n",
    "from sklearn.svm import SVC\n",
    "from sklearn.naive_bayes import MultinomialNB\n",
    "from sklearn.ensemble import RandomForestClassifier\n",
    "from sklearn.ensemble import GradientBoostingClassifier"
   ]
  },
  {
   "cell_type": "code",
   "execution_count": 49,
   "id": "51b23415-7425-42b8-ac62-edd198d42de6",
   "metadata": {},
   "outputs": [],
   "source": [
    "models = {\n",
    "    \"NB\": MultinomialNB(),\n",
    "    \"LogisticReg\": LogisticRegression(solver='liblinear', penalty='l1'),\n",
    "    \"RanForest\": RandomForestClassifier(n_estimators=50, random_state=2),\n",
    "    \"SVM\": SVC(kernel='sigmoid', gamma=1.0),\n",
    "    \"GBoost\": GradientBoostingClassifier(n_estimators=50,random_state=2)\n",
    "}"
   ]
  },
  {
   "cell_type": "code",
   "execution_count": 50,
   "id": "6e1c28e8-c5e1-4758-a56c-1cec4cd53f12",
   "metadata": {},
   "outputs": [
    {
     "name": "stdout",
     "output_type": "stream",
     "text": [
      "NB:\n",
      "  Mean F1-Score (CV): 0.8313\n",
      "  Std F1-Score (CV): 0.0234\n",
      "\n",
      "LogisticReg:\n",
      "  Mean F1-Score (CV): 0.7394\n",
      "  Std F1-Score (CV): 0.0238\n",
      "\n",
      "RanForest:\n",
      "  Mean F1-Score (CV): 0.8544\n",
      "  Std F1-Score (CV): 0.0236\n",
      "\n",
      "SVM:\n",
      "  Mean F1-Score (CV): 0.8589\n",
      "  Std F1-Score (CV): 0.0275\n",
      "\n",
      "GBoost:\n",
      "  Mean F1-Score (CV): 0.7524\n",
      "  Std F1-Score (CV): 0.0172\n",
      "\n"
     ]
    }
   ],
   "source": [
    "from sklearn.model_selection import cross_val_score\n",
    "model_scores = {}\n",
    "\n",
    "for name, model in models.items():\n",
    "    model.fit(X_train, y_train)\n",
    "    \n",
    "    cv_score = cross_val_score(model, X_train, y_train, cv=3, scoring='f1')\n",
    "    \n",
    "    model_scores[name] = {\n",
    "        'Model': model,\n",
    "        'CV Mean F1-Score': cv_score.mean(),\n",
    "        'CV Std F1-Score': cv_score.std()\n",
    "    }\n",
    "\n",
    "for name, scores in model_scores.items():\n",
    "    print(f\"{name}:\")\n",
    "    print(f\"  Mean F1-Score (CV): {scores['CV Mean F1-Score']:.4f}\")\n",
    "    print(f\"  Std F1-Score (CV): {scores['CV Std F1-Score']:.4f}\\n\")"
   ]
  },
  {
   "cell_type": "code",
   "execution_count": 51,
   "id": "6146291f-1904-478b-964a-7ed92eab0a86",
   "metadata": {},
   "outputs": [
    {
     "data": {
      "text/plain": [
       "'\\n-SVM is the top performer but\\n Slowest to train (especially on larger datasets).\\n-Random Forest is the best trade-off\\n-Naive Bayes is fast but weaker\\n-XGBoost & Logistic Regression underperformed\\n'"
      ]
     },
     "execution_count": 51,
     "metadata": {},
     "output_type": "execute_result"
    }
   ],
   "source": [
    "'''\n",
    "-SVM is the top performer but\n",
    " Slowest to train (especially on larger datasets).\n",
    "-Random Forest is the best trade-off\n",
    "-Naive Bayes is fast but weaker\n",
    "-XGBoost & Logistic Regression underperformed\n",
    "'''"
   ]
  },
  {
   "cell_type": "code",
   "execution_count": 52,
   "id": "08b2c5a5-c738-4752-a46e-b7718d215641",
   "metadata": {},
   "outputs": [
    {
     "data": {
      "text/html": [
       "<style>.output { max-height: none !important; overflow-y: visible !important; }</style>"
      ],
      "text/plain": [
       "<IPython.core.display.HTML object>"
      ]
     },
     "metadata": {},
     "output_type": "display_data"
    },
    {
     "name": "stdout",
     "output_type": "stream",
     "text": [
      "\n",
      "\u001b[1mMODEL EVALUATION SUMMARY\u001b[0m\n",
      "==================================================\n",
      "\n",
      "\u001b[1mEvaluation for MultinomialNB\u001b[0m\n",
      "--------------------------------------------------\n",
      "Accuracy:  0.9710\n",
      "Precision: 1.0000\n",
      "Recall:    0.7826\n",
      "F1-Score:  0.8780\n"
     ]
    },
    {
     "data": {
      "image/png": "[encoded data removed]",
      "text/plain": [
       "<Figure size 500x350 with 1 Axes>"
      ]
     },
     "metadata": {},
     "output_type": "display_data"
    },
    {
     "name": "stdout",
     "output_type": "stream",
     "text": [
      "\n",
      "\u001b[1mEvaluation for LogisticRegression\u001b[0m\n",
      "--------------------------------------------------\n",
      "Accuracy:  0.9555\n",
      "Precision: 0.9600\n",
      "Recall:    0.6957\n",
      "F1-Score:  0.8067\n"
     ]
    },
    {
     "data": {
      "image/png": "[encoded data removed]",
      "text/plain": [
       "<Figure size 500x350 with 1 Axes>"
      ]
     },
     "metadata": {},
     "output_type": "display_data"
    },
    {
     "name": "stdout",
     "output_type": "stream",
     "text": [
      "\n",
      "\u001b[1mEvaluation for RandomForestClassifier\u001b[0m\n",
      "--------------------------------------------------\n",
      "Accuracy:  0.9739\n",
      "Precision: 0.9826\n",
      "Recall:    0.8188\n",
      "F1-Score:  0.8933\n"
     ]
    },
    {
     "data": {
      "image/png": "[encoded data removed]",
      "text/plain": [
       "<Figure size 500x350 with 1 Axes>"
      ]
     },
     "metadata": {},
     "output_type": "display_data"
    },
    {
     "name": "stdout",
     "output_type": "stream",
     "text": [
      "\n",
      "\u001b[1mEvaluation for SVC\u001b[0m\n",
      "--------------------------------------------------\n",
      "Accuracy:  0.9758\n",
      "Precision: 0.9748\n",
      "Recall:    0.8406\n",
      "F1-Score:  0.9027\n"
     ]
    },
    {
     "data": {
      "image/png": "[encoded data removed]",
      "text/plain": [
       "<Figure size 500x350 with 1 Axes>"
      ]
     },
     "metadata": {},
     "output_type": "display_data"
    },
    {
     "name": "stdout",
     "output_type": "stream",
     "text": [
      "\n",
      "\u001b[1mEvaluation for GradientBoostingClassifier\u001b[0m\n",
      "--------------------------------------------------\n",
      "Accuracy:  0.9507\n",
      "Precision: 0.9307\n",
      "Recall:    0.6812\n",
      "F1-Score:  0.7866\n"
     ]
    },
    {
     "data": {
      "image/png": "[encoded data removed]",
      "text/plain": [
       "<Figure size 500x350 with 1 Axes>"
      ]
     },
     "metadata": {},
     "output_type": "display_data"
    }
   ],
   "source": [
    "from sklearn.metrics import accuracy_score, precision_score, recall_score, f1_score, confusion_matrix, classification_report\n",
    "import matplotlib.pyplot as plt\n",
    "import seaborn as sns\n",
    "from IPython.display import display, HTML\n",
    "\n",
    "\n",
    "display(HTML(\"<style>.output { max-height: none !important; overflow-y: visible !important; }</style>\"))\n",
    "\n",
    "def evaluate_model(model, X_test, y_test):\n",
    "    y_pred = model.predict(X_test)\n",
    "    \n",
    "    metrics = {\n",
    "        'Model': model.__class__.__name__,\n",
    "        'Accuracy': f\"{accuracy_score(y_test, y_pred):.4f}\",\n",
    "        'Precision': f\"{precision_score(y_test, y_pred):.4f}\",\n",
    "        'Recall': f\"{recall_score(y_test, y_pred):.4f}\",\n",
    "        'F1-Score': f\"{f1_score(y_test, y_pred):.4f}\"\n",
    "    }\n",
    "    \n",
    "    print(f\"\\n\\033[1mEvaluation for {metrics['Model']}\\033[0m\")\n",
    "    print(\"-\"*50)\n",
    "    print(f\"Accuracy:  {metrics['Accuracy']}\")\n",
    "    print(f\"Precision: {metrics['Precision']}\")\n",
    "    print(f\"Recall:    {metrics['Recall']}\")\n",
    "    print(f\"F1-Score:  {metrics['F1-Score']}\")\n",
    "    \n",
    "    plt.figure(figsize=(5, 3.5)) \n",
    "    cm = confusion_matrix(y_test, y_pred)\n",
    "    sns.heatmap(cm, annot=True, fmt='d', cmap='Blues', \n",
    "                xticklabels=['Not Spam', 'Spam'], \n",
    "                yticklabels=['Not Spam', 'Spam'],\n",
    "                cbar=False)\n",
    "    plt.title(f\"Confusion Matrix\", pad=10)\n",
    "    plt.xlabel(\"Predicted\")\n",
    "    plt.ylabel(\"Actual\")\n",
    "    plt.tight_layout()\n",
    "    plt.show()\n",
    "    \n",
    "    return metrics\n",
    "\n",
    "print(\"\\n\\033[1mMODEL EVALUATION SUMMARY\\033[0m\")\n",
    "print(\"=\"*50)\n",
    "all_metrics = []\n",
    "for name, model_data in model_scores.items():\n",
    "    all_metrics.append(evaluate_model(model_data['Model'], X_test, y_test))"
   ]
  },
  {
   "cell_type": "code",
   "execution_count": 1,
   "id": "81ea9096-547e-4814-8584-91dd71d672fb",
   "metadata": {},
   "outputs": [
    {
     "data": {
      "text/plain": [
       "'\\nBest Overall Model → SVM\\nHighest F1-Score (0.9027): Best balance of precision and recall.\\nStrong Recall (0.8406): Captures most spam emails.\\nGood Precision (0.9748): Few false positives.\\n'"
      ]
     },
     "execution_count": 1,
     "metadata": {},
     "output_type": "execute_result"
    }
   ],
   "source": [
    "'''\n",
    "Best Overall Model → SVM\n",
    "Highest F1-Score (0.9027): Best balance of precision and recall.\n",
    "Strong Recall (0.8406): Captures most spam emails.\n",
    "Good Precision (0.9748): Few false positives.\n",
    "'''"
   ]
  },
  {
   "cell_type": "markdown",
   "id": "70d4a871-0eac-42c0-b673-b165516b3c16",
   "metadata": {},
   "source": [
    "### d) Best Model Hypertuning"
   ]
  },
  {
   "cell_type": "code",
   "execution_count": 53,
   "id": "e4b3a3a0-1ec4-4510-a545-50bc21e353d2",
   "metadata": {},
   "outputs": [
    {
     "name": "stdout",
     "output_type": "stream",
     "text": [
      "Best SVM Parameters: {'C': 1, 'kernel': 'linear'}\n"
     ]
    }
   ],
   "source": [
    "from sklearn.model_selection import GridSearchCV\n",
    "\n",
    "param_grid = {\n",
    "    'C': [0.1, 1, 10],         \n",
    "    'kernel': ['linear', 'rbf']  \n",
    "}\n",
    "\n",
    "svm_grid = GridSearchCV(\n",
    "    SVC(probability=True, random_state=42),\n",
    "    param_grid,\n",
    "    cv=3,\n",
    "    scoring='f1',\n",
    "    n_jobs=-1\n",
    ")\n",
    "\n",
    "svm_grid.fit(X_train, y_train)\n",
    "\n",
    "print(\"Best SVM Parameters:\", svm_grid.best_params_)"
   ]
  },
  {
   "cell_type": "markdown",
   "id": "753139ef-2c42-4ff9-9fd3-5c833b03082a",
   "metadata": {},
   "source": [
    "### Final Model Evaluation"
   ]
  },
  {
   "cell_type": "code",
   "execution_count": 54,
   "id": "4c6de2ae-25fd-4c33-9fb6-b3b5e0bf748d",
   "metadata": {},
   "outputs": [
    {
     "name": "stdout",
     "output_type": "stream",
     "text": [
      "Test Performance:\n",
      "Accuracy: 0.9787\n",
      "Precision: 0.9754\n",
      "Recall: 0.8623\n",
      "F1-Score: 0.9154\n",
      "ROC-AUC: 0.9894\n"
     ]
    }
   ],
   "source": [
    "from sklearn.metrics import roc_curve, roc_auc_score\n",
    "best_svm = svm_grid.best_estimator_\n",
    "\n",
    "y_pred = best_svm.predict(X_test)\n",
    "y_pred_proba = best_svm.predict_proba(X_test)[:, 1]\n",
    "\n",
    "print(\"Test Performance:\")\n",
    "print(f\"Accuracy: {accuracy_score(y_test, y_pred):.4f}\")\n",
    "print(f\"Precision: {precision_score(y_test, y_pred):.4f}\")\n",
    "print(f\"Recall: {recall_score(y_test, y_pred):.4f}\")\n",
    "print(f\"F1-Score: {f1_score(y_test, y_pred):.4f}\")\n",
    "print(f\"ROC-AUC: {roc_auc_score(y_test, y_pred_proba):.4f}\")"
   ]
  },
  {
   "cell_type": "code",
   "execution_count": 55,
   "id": "09b818b2-1b04-4cac-972c-a5ebe4291069",
   "metadata": {},
   "outputs": [
    {
     "data": {
      "image/png": "[encoded data removed]",
      "text/plain": [
       "<Figure size 640x480 with 2 Axes>"
      ]
     },
     "metadata": {},
     "output_type": "display_data"
    }
   ],
   "source": [
    "sns.heatmap(confusion_matrix(y_test, y_pred), annot=True, fmt='d', cmap='Blues')\n",
    "plt.title(\"SVM Confusion Matrix\")\n",
    "plt.savefig('SVMConfusionMatrix.png')\n",
    "plt.show()"
   ]
  },
  {
   "cell_type": "code",
   "execution_count": 56,
   "id": "5bec2950-b59f-4438-9d47-bbd79ec87203",
   "metadata": {},
   "outputs": [
    {
     "data": {
      "text/plain": [
       "'\\nThe model is highly accurate at identifying non-spam emails.\\n'"
      ]
     },
     "execution_count": 56,
     "metadata": {},
     "output_type": "execute_result"
    }
   ],
   "source": [
    "'''\n",
    "The model is highly accurate at identifying non-spam emails.\n",
    "'''"
   ]
  },
  {
   "cell_type": "code",
   "execution_count": 57,
   "id": "e6fd37fc-ce65-4aa9-ba36-cc820ebb9915",
   "metadata": {},
   "outputs": [
    {
     "data": {
      "image/png": "[encoded data removed]",
      "text/plain": [
       "<Figure size 640x480 with 1 Axes>"
      ]
     },
     "metadata": {},
     "output_type": "display_data"
    }
   ],
   "source": [
    "fpr, tpr, _ = roc_curve(y_test, y_pred_proba)\n",
    "plt.plot(fpr, tpr, label=f'AUC = {roc_auc_score(y_test, y_pred_proba):.2f}')\n",
    "plt.plot([0, 1], [0, 1], 'k--')\n",
    "plt.title(\"SVM ROC Curve\")\n",
    "plt.savefig('RocCurve.png')\n",
    "plt.legend()\n",
    "plt.show()"
   ]
  },
  {
   "cell_type": "code",
   "execution_count": 58,
   "id": "a55302ef-d36b-44f9-9046-a5b2a915d4c3",
   "metadata": {},
   "outputs": [
    {
     "data": {
      "text/plain": [
       "'\\nAUC (Area Under Curve) is likely to be above 0.95, which indicates very strong performance.\\n'"
      ]
     },
     "execution_count": 58,
     "metadata": {},
     "output_type": "execute_result"
    }
   ],
   "source": [
    "'''\n",
    "AUC (Area Under Curve) is likely to be above 0.95, which indicates very strong performance.\n",
    "'''"
   ]
  },
  {
   "cell_type": "code",
   "execution_count": 60,
   "id": "d0646438-95e7-4b4f-9a15-a91c23d2e0cf",
   "metadata": {},
   "outputs": [
    {
     "ename": "NameError",
     "evalue": "name 'svm_model' is not defined",
     "output_type": "error",
     "traceback": [
      "\u001b[31m---------------------------------------------------------------------------\u001b[39m",
      "\u001b[31mNameError\u001b[39m                                 Traceback (most recent call last)",
      "\u001b[36mCell\u001b[39m\u001b[36m \u001b[39m\u001b[32mIn[60]\u001b[39m\u001b[32m, line 5\u001b[39m\n\u001b[32m      3\u001b[39m \u001b[38;5;66;03m# Assuming you have a trained model (e.g., model) and vectorizer (e.g., vectorizer)\u001b[39;00m\n\u001b[32m      4\u001b[39m \u001b[38;5;28;01mwith\u001b[39;00m \u001b[38;5;28mopen\u001b[39m(\u001b[33m'\u001b[39m\u001b[33mspam_classifier.pkl\u001b[39m\u001b[33m'\u001b[39m, \u001b[33m'\u001b[39m\u001b[33mwb\u001b[39m\u001b[33m'\u001b[39m) \u001b[38;5;28;01mas\u001b[39;00m model_file:\n\u001b[32m----> \u001b[39m\u001b[32m5\u001b[39m     pickle.dump(\u001b[43msvm_model\u001b[49m, model_file)\n\u001b[32m      7\u001b[39m \u001b[38;5;28;01mwith\u001b[39;00m \u001b[38;5;28mopen\u001b[39m(\u001b[33m'\u001b[39m\u001b[33mvectorizer.pkl\u001b[39m\u001b[33m'\u001b[39m, \u001b[33m'\u001b[39m\u001b[33mwb\u001b[39m\u001b[33m'\u001b[39m) \u001b[38;5;28;01mas\u001b[39;00m vectorizer_file:\n\u001b[32m      8\u001b[39m     pickle.dump(tfidf, vectorizer_file)\n",
      "\u001b[31mNameError\u001b[39m: name 'svm_model' is not defined"
     ]
    }
   ],
   "source": [
    "import pickle\n",
    "\n",
    "# Assuming you have a trained model (e.g., model) and vectorizer (e.g., vectorizer)\n",
    "with open('spam_classifier.pkl', 'wb') as model_file:\n",
    "    pickle.dump(svm_model, model_file)\n",
    "\n",
    "with open('vectorizer.pkl', 'wb') as vectorizer_file:\n",
    "    pickle.dump(tfidf, vectorizer_file)"
   ]
  },
  {
   "cell_type": "code",
   "execution_count": null,
   "id": "82e201a9-1b73-4135-9ae3-69a4e79e93ea",
   "metadata": {},
   "outputs": [],
   "source": []
  },
  {
   "cell_type": "code",
   "execution_count": null,
   "id": "9bddd4e6-48ec-40a7-a8e7-4561fbeb14a7",
   "metadata": {},
   "outputs": [],
   "source": []
  }
 ],
 "metadata": {
  "kernelspec": {
   "display_name": "Python 3",
   "language": "python",
   "name": "python3"
  },
  "language_info": {
   "codemirror_mode": {
    "name": "ipython",
    "version": 3
   },
   "file_extension": ".py",
   "mimetype": "text/x-python",
   "name": "python",
   "nbconvert_exporter": "python",
   "pygments_lexer": "ipython3",
   "version": "3.13.1"
  }
 },
 "nbformat": 4,
 "nbformat_minor": 5
}
